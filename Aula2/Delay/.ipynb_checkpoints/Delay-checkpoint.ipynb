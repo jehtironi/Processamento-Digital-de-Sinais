{
 "cells": [
  {
   "cell_type": "code",
   "execution_count": null,
   "id": "5dd0ab9d-8c48-4f9d-84e5-c071a04d3453",
   "metadata": {},
   "outputs": [],
   "source": [
    "#Importando as variaveis"
   ]
  },
  {
   "cell_type": "code",
   "execution_count": 1,
   "id": "2df2a11a-d5c9-41f2-a071-ecf11e994e11",
   "metadata": {},
   "outputs": [],
   "source": [
    "import numpy as np\n",
    "import matplotlib.pyplot as plt"
   ]
  },
  {
   "cell_type": "code",
   "execution_count": null,
   "id": "a681cf7a-e2fc-47fd-9513-fec413bf7a6e",
   "metadata": {},
   "outputs": [],
   "source": [
    "#declaração de variaveis"
   ]
  },
  {
   "cell_type": "code",
   "execution_count": 2,
   "id": "2301f17b-a5d9-40ac-91a8-a769f32d24b5",
   "metadata": {},
   "outputs": [],
   "source": [
    "t1 = 100 * (10 ** (-3))\n",
    "t2 = 150 * (10 ** (-3))\n",
    "\n",
    "Fs = 8000\n",
    "a0 = 0.5\n",
    "a1 = 0.3\n",
    "a2 = 0.2\n",
    "n1 = int(Fs * t1)\n",
    "n2 = int(Fs * t2)"
   ]
  },
  {
   "cell_type": "code",
   "execution_count": null,
   "id": "54fbc96a-8843-49f1-a261-d9f16e0b58c6",
   "metadata": {},
   "outputs": [],
   "source": [
    "#Lendo arquivos em binarios e atraves da função np.frombuffer transformando o buffer em um array"
   ]
  },
  {
   "cell_type": "code",
   "execution_count": 9,
   "id": "08563420-0fa2-448e-aedf-cd0aeac9f14e",
   "metadata": {},
   "outputs": [],
   "source": [
    "#Lendo arquivos binários\n",
    "with open (\"impulsoUnitario.pcm\", \"rb\") as f:\n",
    "        fid = f.read()\n",
    "        f.close()\n",
    "entrada = np.frombuffer(fid, dtype = \"int16\")"
   ]
  },
  {
   "cell_type": "code",
   "execution_count": null,
   "id": "981fb813-af33-4639-80c8-1186cb009da3",
   "metadata": {},
   "outputs": [],
   "source": [
    "#Impulso para teste"
   ]
  },
  {
   "cell_type": "code",
   "execution_count": 16,
   "id": "c824b760-47fe-4c6f-bab5-027d22c5eec0",
   "metadata": {},
   "outputs": [],
   "source": [
    "entrada = np.zeros(2*tama)\n",
    "entrada[0] = 1"
   ]
  },
  {
   "cell_type": "code",
   "execution_count": null,
   "id": "59afda46-a0f2-44dc-99d1-ace49eb96d48",
   "metadata": {},
   "outputs": [],
   "source": [
    "#Calculando o delay"
   ]
  },
  {
   "cell_type": "code",
   "execution_count": 20,
   "id": "a813b03e-a712-4300-ab14-b510d3e071a0",
   "metadata": {},
   "outputs": [
    {
     "ename": "IndexError",
     "evalue": "index 120 is out of bounds for axis 0 with size 120",
     "output_type": "error",
     "traceback": [
      "\u001b[1;31m---------------------------------------------------------------------------\u001b[0m",
      "\u001b[1;31mIndexError\u001b[0m                                Traceback (most recent call last)",
      "Input \u001b[1;32mIn [45]\u001b[0m, in \u001b[0;36m<cell line: 7>\u001b[1;34m()\u001b[0m\n\u001b[0;32m     13\u001b[0m \u001b[38;5;66;03m#Desloca o vetor de delay\u001b[39;00m\n\u001b[0;32m     14\u001b[0m \u001b[38;5;28;01mfor\u001b[39;00m k \u001b[38;5;129;01min\u001b[39;00m \u001b[38;5;28mrange\u001b[39m(\u001b[38;5;241m0\u001b[39m, tama_delay\u001b[38;5;241m-\u001b[39m\u001b[38;5;241m2\u001b[39m):\n\u001b[1;32m---> 15\u001b[0m     vetor_delay[tama_delay\u001b[38;5;241m-\u001b[39mk] \u001b[38;5;241m=\u001b[39m vetor_delay[tama_delay\u001b[38;5;241m-\u001b[39mk\u001b[38;5;241m-\u001b[39m\u001b[38;5;241m1\u001b[39m]\n\u001b[0;32m     16\u001b[0m vet_saida[j] \u001b[38;5;241m=\u001b[39m y\n",
      "\u001b[1;31mIndexError\u001b[0m: index 120 is out of bounds for axis 0 with size 120"
     ]
    }
   ],
   "source": [
    "delay = np.zeros(n2)\n",
    "tama_loop = len(entrada)\n",
    "vet_saida = np.zeros(tama_loop)\n",
    "\n",
    "#Laço de repetição para calcular o delay\n",
    "for j in range(tama_loop):\n",
    "    delay[0] = entrada[j]\n",
    "    y = a0 * delay[0] + a1 * delay[n1-1] + a2 * delay[n2-1]\n",
    "    for k in range(n2):\n",
    "        delay[n2-k-1] = delay[n2-k-2]\n",
    "    vet_saida[j] = y"
   ]
  },
  {
   "cell_type": "code",
   "execution_count": null,
   "id": "77f50380-1adc-4857-b777-bf871544f513",
   "metadata": {},
   "outputs": [],
   "source": [
    "#plotando o grafico de entrada"
   ]
  },
  {
   "cell_type": "code",
   "execution_count": 18,
   "id": "367dc73c-374a-4e53-8aed-8c7dc37b9e7e",
   "metadata": {},
   "outputs": [
    {
     "data": {
      "text/plain": [
       "<StemContainer object of 3 artists>"
      ]
     },
     "execution_count": 43,
     "metadata": {},
     "output_type": "execute_result"
    },
    {
     "data": {
      "image/png": "[encoded data removed]",
      "text/plain": [
       "<Figure size 432x288 with 1 Axes>"
      ]
     },
     "metadata": {
      "needs_background": "light"
     },
     "output_type": "display_data"
    }
   ],
   "source": [
    "#Plotando o gráfico de entrada\n",
    "plt.subplot(2, 1, 1)\n",
    "plt.title(\"Sinal de Entrada\")\n",
    "plt.stem(entrada)"
   ]
  },
  {
   "cell_type": "code",
   "execution_count": null,
   "id": "3a2a5b6c-7de9-4013-aff0-5ceb80c17615",
   "metadata": {},
   "outputs": [],
   "source": [
    "#Plotando o gráfico de saida"
   ]
  },
  {
   "cell_type": "code",
   "execution_count": 19,
   "id": "1c9760a0-bd7d-495d-b8dd-610759eb9994",
   "metadata": {},
   "outputs": [
    {
     "data": {
      "image/png": "[encoded data removed]",
      "text/plain": [
       "<Figure size 432x288 with 1 Axes>"
      ]
     },
     "metadata": {
      "needs_background": "light"
     },
     "output_type": "display_data"
    }
   ],
   "source": [
    "#Plotando o gráfico de saida\n",
    "plt.subplot(2, 1, 2)\n",
    "plt.title(\"Sinal de Saida\")\n",
    "plt.stem(vet_saida)\n",
    "plt.tight_layout()"
   ]
  },
  {
   "cell_type": "code",
   "execution_count": null,
   "id": "6799e6ae-3401-418d-b12b-c4de157ac9b6",
   "metadata": {},
   "outputs": [],
   "source": [
    "#Salvando o novo arquivo"
   ]
  },
  {
   "cell_type": "code",
   "execution_count": 7,
   "id": "de3c9290-9836-442c-ab51-0b8cfde7b2b6",
   "metadata": {},
   "outputs": [],
   "source": [
    "#Salvando o arquivo de saída\n",
    "with open(\"delayFinal.pcm\", \"wb\") as novo:\n",
    "    for data in vet_saida:\n",
    "        novo.write(data)\n",
    "    novo.close()"
   ]
  }
 ],
 "metadata": {
  "kernelspec": {
   "display_name": "Python 3 (ipykernel)",
   "language": "python",
   "name": "python3"
  },
  "language_info": {
   "codemirror_mode": {
    "name": "ipython",
    "version": 3
   },
   "file_extension": ".py",
   "mimetype": "text/x-python",
   "name": "python",
   "nbconvert_exporter": "python",
   "pygments_lexer": "ipython3",
   "version": "3.9.12"
  }
 },
 "nbformat": 4,
 "nbformat_minor": 5
}
