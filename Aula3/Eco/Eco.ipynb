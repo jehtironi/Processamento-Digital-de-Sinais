{
 "cells": [
  {
   "cell_type": "code",
   "execution_count": null,
   "id": "84e3c7e7-d18b-4e14-950c-e44945ff3eef",
   "metadata": {},
   "outputs": [],
   "source": [
    "#Importando as bibliotecas"
   ]
  },
  {
   "cell_type": "code",
   "execution_count": 2,
   "id": "8fcb4f51-59e7-44d6-9cfd-cfdf86500c3f",
   "metadata": {},
   "outputs": [],
   "source": [
    "import numpy as np\n",
    "import matplotlib.pyplot as plt"
   ]
  },
  {
   "cell_type": "code",
   "execution_count": null,
   "id": "f213b8a9-8a78-406a-a174-cc2662ceb043",
   "metadata": {},
   "outputs": [],
   "source": [
    "#Lendo os arquivos em binário"
   ]
  },
  {
   "cell_type": "code",
   "execution_count": 86,
   "id": "432f3cb3-1264-4ce5-a104-e197db4e9c8c",
   "metadata": {},
   "outputs": [],
   "source": [
    "#Lendo arquivos binários\n",
    "with open (\"alo.pcm\", \"rb\") as f:\n",
    "        fid = f.read()\n",
    "        f.close()\n",
    "entrada = np.frombuffer(fid, dtype = \"int16\")"
   ]
  },
  {
   "cell_type": "code",
   "execution_count": null,
   "id": "8aa31720-98ab-40b7-88b2-0da68287b6b2",
   "metadata": {},
   "outputs": [],
   "source": [
    "#declaração de variaveis"
   ]
  },
  {
   "cell_type": "code",
   "execution_count": 87,
   "id": "76fa6c49-b9a3-457c-92de-4007dd5d7aa0",
   "metadata": {},
   "outputs": [],
   "source": [
    "Fs = 8000 \n",
    "t1 = 10 * 10**-3 \n",
    "t2 = 15 * 10**-3\n",
    "n = [int(t1 * Fs), int(t2 * Fs), 0] \n",
    "# Ganhos\n",
    "a = [.5, .3, .2]\n",
    "delay_length = n[2]\n",
    "vector_eco = np.zeros(len(entrada), dtype = \"int16\");\n",
    "\n",
    "# Entradas\n",
    "saida = np.copy(entrada)"
   ]
  },
  {
   "cell_type": "code",
   "execution_count": null,
   "id": "354ab86f-3382-459f-9dee-7fc6f8fe3f80",
   "metadata": {},
   "outputs": [],
   "source": [
    "#formula para calcular o eco\n",
    "#Laço de repetição que possui o tamanho do array de entrada\n",
    "#salva o resultado do calculo em um vetor de saida"
   ]
  },
  {
   "cell_type": "code",
   "execution_count": 88,
   "id": "58f01964-b81c-4f68-a7b2-74a857ee7e0f",
   "metadata": {},
   "outputs": [],
   "source": [
    "for i in range(len(a)):\n",
    "    for j in range(len(entrada)):\n",
    "        vector_eco[j] = a[i] * entrada[j]\n",
    "        \n",
    "        np.concatenate([saida, np.zeros(n[i], dtype = \"int16\")])\n",
    "        \n",
    "    saida = np.concatenate([saida, vector_eco])"
   ]
  },
  {
   "cell_type": "code",
   "execution_count": null,
   "id": "58089e49-dda7-4133-9fe8-5d4b44aacd05",
   "metadata": {},
   "outputs": [],
   "source": [
    "#Plotando o gráfico de entrada"
   ]
  },
  {
   "cell_type": "code",
   "execution_count": 89,
   "id": "545f6e8e-8cc0-4000-a410-9747d81e0489",
   "metadata": {},
   "outputs": [
    {
     "data": {
      "text/plain": [
       "<StemContainer object of 3 artists>"
      ]
     },
     "execution_count": 89,
     "metadata": {},
     "output_type": "execute_result"
    },
    {
     "data": {
      "image/png": "[encoded data removed]",
      "text/plain": [
       "<Figure size 432x288 with 1 Axes>"
      ]
     },
     "metadata": {
      "needs_background": "light"
     },
     "output_type": "display_data"
    }
   ],
   "source": [
    "plt.subplot(2, 1, 1)\n",
    "plt.title(\"Entrada\")\n",
    "plt.xlabel(\"Nº de amostras\")\n",
    "plt.stem(entrada)"
   ]
  },
  {
   "cell_type": "code",
   "execution_count": null,
   "id": "667f204e-9ba5-47f7-a000-3896b847c58e",
   "metadata": {},
   "outputs": [],
   "source": [
    "#Plotando o grafico de saida"
   ]
  },
  {
   "cell_type": "code",
   "execution_count": 90,
   "id": "4faf4cac-0170-47e8-905f-4b17c87c09a5",
   "metadata": {},
   "outputs": [
    {
     "data": {
      "text/plain": [
       "<StemContainer object of 3 artists>"
      ]
     },
     "execution_count": 90,
     "metadata": {},
     "output_type": "execute_result"
    },
    {
     "data": {
      "image/png": "[encoded data removed]",
      "text/plain": [
       "<Figure size 432x288 with 1 Axes>"
      ]
     },
     "metadata": {
      "needs_background": "light"
     },
     "output_type": "display_data"
    }
   ],
   "source": [
    "plt.subplot(2, 1, 2)\n",
    "plt.title(\"Saída\")\n",
    "plt.xlabel(\"Nº de amostras\")\n",
    "plt.stem(saida)"
   ]
  },
  {
   "cell_type": "code",
   "execution_count": null,
   "id": "0fa70076-150d-46e2-9820-eebddd48b21d",
   "metadata": {},
   "outputs": [],
   "source": [
    "#Salvando o arquivo eco"
   ]
  },
  {
   "cell_type": "code",
   "execution_count": 91,
   "id": "177ae626-ceaf-4894-92c2-a8ad4bcd8c02",
   "metadata": {},
   "outputs": [],
   "source": [
    "with open('eco.pcm', 'wb') as fid:\n",
    "    np.array(saida, dtype=np.int16).tofile(fid)\n",
    "fid.close()"
   ]
  }
 ],
 "metadata": {
  "kernelspec": {
   "display_name": "Python 3 (ipykernel)",
   "language": "python",
   "name": "python3"
  },
  "language_info": {
   "codemirror_mode": {
    "name": "ipython",
    "version": 3
   },
   "file_extension": ".py",
   "mimetype": "text/x-python",
   "name": "python",
   "nbconvert_exporter": "python",
   "pygments_lexer": "ipython3",
   "version": "3.9.12"
  }
 },
 "nbformat": 4,
 "nbformat_minor": 5
}
