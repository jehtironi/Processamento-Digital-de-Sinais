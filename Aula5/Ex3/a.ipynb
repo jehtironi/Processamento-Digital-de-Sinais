{
 "cells": [
  {
   "cell_type": "code",
   "execution_count": null,
   "id": "65c4c942-38ac-45b8-8396-bcc7f2ce67de",
   "metadata": {},
   "outputs": [],
   "source": [
    "#importando as bibliotecas"
   ]
  },
  {
   "cell_type": "code",
   "execution_count": 2,
   "id": "02c2849d-7382-4f22-84ad-307b6bf0a75f",
   "metadata": {},
   "outputs": [],
   "source": [
    "import numpy as np\n",
    "import matplotlib.pyplot as matp"
   ]
  },
  {
   "cell_type": "code",
   "execution_count": 3,
   "id": "8309c866-92d8-4bfb-9300-108741678739",
   "metadata": {},
   "outputs": [
    {
     "name": "stdout",
     "output_type": "stream",
     "text": [
      "[1. 1. 1. 1. 1. 1. 1. 1. 1. 1.]\n"
     ]
    }
   ],
   "source": [
    "tam_amostras = 10\n",
    "x = np.ones(tam_amostras)\n",
    "\n",
    "print(x)\n",
    "saida = np.zeros(len(x))\n"
   ]
  },
  {
   "cell_type": "code",
   "execution_count": null,
   "id": "542c7762-e030-413f-813f-755b4ef0c706",
   "metadata": {},
   "outputs": [],
   "source": [
    "#Calculando a saida do sistem discreto "
   ]
  },
  {
   "cell_type": "code",
   "execution_count": 4,
   "id": "34bc023d-e0d8-4cc2-9767-c592589b5fd7",
   "metadata": {},
   "outputs": [
    {
     "name": "stdout",
     "output_type": "stream",
     "text": [
      "y[k] =  0.0\n",
      "y[k] =  0.0\n",
      "y[k] =  1.0\n",
      "y[k] =  1.75\n",
      "y[k] =  1.6375000000000002\n",
      "y[k] =  1.234375\n",
      "y[k] =  1.18984375\n",
      "y[k] =  1.3802734375\n",
      "y[k] =  1.450146484375\n",
      "y[k] =  1.3723999023437499\n",
      "y[k] =  1.3180267333984377\n"
     ]
    }
   ],
   "source": [
    "#Variaveis para guardar os valores de y[k-1] e de [k-2]\n",
    "aux1 = 0\n",
    "aux2 = 0\n",
    "y = 0\n",
    "\n",
    "for k in range(-2, tam_amostras-1):\n",
    "    input = x[k]\n",
    "    \n",
    "    # Calcula o valor na saida\n",
    "    if(k == -2 or k == -1 or k == 0):\n",
    "        aux3 = 0;\n",
    "        aux4 = 0;\n",
    "    elif(k == 1):\n",
    "        aux3 = 1;\n",
    "    else:\n",
    "        aux3 = x[k-1]\n",
    "        aux4 = x[k-2]\n",
    "    \n",
    "    if(k < 0):\n",
    "        input = 0\n",
    "    else:\n",
    "        input = 1\n",
    "        \n",
    "    #print('--------------')\n",
    "    y = input + (1/2) * aux3 + (1/5) * aux4 + (1/4)*aux1 - (1/2)*aux2\n",
    "    print('y[k] = ', y)\n",
    "    \n",
    "    # Deslocamento\n",
    "    aux2 = aux1\n",
    "    aux1 = y\n",
    "    \n",
    "    saida[k] = y"
   ]
  },
  {
   "cell_type": "code",
   "execution_count": null,
   "id": "48a5434b-b2ad-4198-a630-def27f3a607f",
   "metadata": {},
   "outputs": [],
   "source": [
    "#Plotando os gráficos de entrada"
   ]
  },
  {
   "cell_type": "code",
   "execution_count": 5,
   "id": "2f73913f-bc16-4588-bcf0-458f9102066a",
   "metadata": {},
   "outputs": [
    {
     "data": {
      "text/plain": [
       "<StemContainer object of 3 artists>"
      ]
     },
     "execution_count": 5,
     "metadata": {},
     "output_type": "execute_result"
    },
    {
     "data": {
      "image/png": "[encoded data removed]",
      "text/plain": [
       "<Figure size 432x288 with 1 Axes>"
      ]
     },
     "metadata": {
      "needs_background": "light"
     },
     "output_type": "display_data"
    }
   ],
   "source": [
    "# Plota os gráficos\n",
    "matp.subplot(211)\n",
    "matp.title(u\"Gráfico entrada\")\n",
    "matp.grid(1)\n",
    "matp.stem(x)\n"
   ]
  },
  {
   "cell_type": "code",
   "execution_count": null,
   "id": "a647e796-e6de-4cde-9364-5c3794e1d507",
   "metadata": {},
   "outputs": [],
   "source": [
    "#Plotando os gráficos de saida"
   ]
  },
  {
   "cell_type": "code",
   "execution_count": 6,
   "id": "6f9eb387-1dea-4858-9c30-89eb1b938f27",
   "metadata": {},
   "outputs": [
    {
     "data": {
      "text/plain": [
       "<StemContainer object of 3 artists>"
      ]
     },
     "execution_count": 6,
     "metadata": {},
     "output_type": "execute_result"
    },
    {
     "data": {
      "image/png": "[encoded data removed]",
      "text/plain": [
       "<Figure size 432x288 with 1 Axes>"
      ]
     },
     "metadata": {
      "needs_background": "light"
     },
     "output_type": "display_data"
    }
   ],
   "source": [
    "matp.subplot(212)\n",
    "matp.title(u\"Gráfico saida\")\n",
    "matp.xlabel(\"amostra\")\n",
    "matp.grid(1)\n",
    "matp.stem(saida)"
   ]
  }
 ],
 "metadata": {
  "kernelspec": {
   "display_name": "Python 3 (ipykernel)",
   "language": "python",
   "name": "python3"
  },
  "language_info": {
   "codemirror_mode": {
    "name": "ipython",
    "version": 3
   },
   "file_extension": ".py",
   "mimetype": "text/x-python",
   "name": "python",
   "nbconvert_exporter": "python",
   "pygments_lexer": "ipython3",
   "version": "3.9.12"
  }
 },
 "nbformat": 4,
 "nbformat_minor": 5
}
