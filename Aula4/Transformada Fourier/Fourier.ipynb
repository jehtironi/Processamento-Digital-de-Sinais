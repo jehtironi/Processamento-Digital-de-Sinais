{
 "cells": [
  {
   "cell_type": "code",
   "execution_count": 1,
   "id": "456aaa80-f3fa-43ee-820e-3a6b54a0724c",
   "metadata": {},
   "outputs": [],
   "source": [
    "#Importando as bibliotecas"
   ]
  },
  {
   "cell_type": "code",
   "execution_count": 4,
   "id": "a4a76cf2-b171-43da-99dc-9842bcac9ec4",
   "metadata": {
    "tags": []
   },
   "outputs": [],
   "source": [
    "import numpy as np\n",
    "import matplotlib.pyplot as plt"
   ]
  },
  {
   "cell_type": "code",
   "execution_count": null,
   "id": "fc6fc9b5-1efd-44cc-8f17-7a11ffd2531a",
   "metadata": {},
   "outputs": [],
   "source": [
    "#Declarando o vetor w\n",
    "#O mesmo vai de -pi até pi e o valor vai aumentando de pi/100 em pi/100"
   ]
  },
  {
   "cell_type": "code",
   "execution_count": 18,
   "id": "316fb3ad-3261-4bfb-ac2a-3ae4c9f331d4",
   "metadata": {},
   "outputs": [],
   "source": [
    "w = np.arange(-np.pi, np.pi, np.pi/100)\n",
    "a = 0.5"
   ]
  },
  {
   "cell_type": "code",
   "execution_count": null,
   "id": "5559d424-65a1-4856-8d72-358ebfc29800",
   "metadata": {},
   "outputs": [],
   "source": [
    "#Declarando as funções utilizadas"
   ]
  },
  {
   "cell_type": "code",
   "execution_count": 19,
   "id": "793e7a67-0e94-42bd-8cb2-8445409a0cd9",
   "metadata": {},
   "outputs": [],
   "source": [
    "Num = 1\n",
    "Den = 1 - a*np.exp(-1j*w)\n",
    "X = Num/Den"
   ]
  },
  {
   "cell_type": "code",
   "execution_count": null,
   "id": "a8586a2a-e46b-48cf-a1c9-fa4d988b6b0c",
   "metadata": {},
   "outputs": [],
   "source": [
    "#Calculando o Modulo de X"
   ]
  },
  {
   "cell_type": "code",
   "execution_count": 24,
   "id": "97e57cf7-7679-427c-b602-d72633dd6664",
   "metadata": {},
   "outputs": [],
   "source": [
    "Mod_X = np.abs(X)"
   ]
  },
  {
   "cell_type": "code",
   "execution_count": null,
   "id": "5f2e25d6-4804-4ecb-a0ae-00637172e9c3",
   "metadata": {},
   "outputs": [],
   "source": [
    "#Calculando a Fase de X"
   ]
  },
  {
   "cell_type": "code",
   "execution_count": 21,
   "id": "e325f908-8a91-449e-a7ad-e0d0c07995f8",
   "metadata": {},
   "outputs": [],
   "source": [
    "Fase_X = np.angle(X)"
   ]
  },
  {
   "cell_type": "code",
   "execution_count": null,
   "id": "1502c726-35cc-4519-9c7d-0d1b31573143",
   "metadata": {},
   "outputs": [],
   "source": [
    "#Plotando o módulo"
   ]
  },
  {
   "cell_type": "code",
   "execution_count": 28,
   "id": "47adaa82-c12d-425d-a1a2-bb77caa10a35",
   "metadata": {},
   "outputs": [
    {
     "data": {
      "image/png": "[encoded data removed]",
      "text/plain": [
       "<Figure size 432x288 with 1 Axes>"
      ]
     },
     "metadata": {
      "needs_background": "light"
     },
     "output_type": "display_data"
    }
   ],
   "source": [
    "plt.subplot(2,1,1)\n",
    "plt.plot(Mod_X,)\n",
    "plt.title('Magnitude')\n",
    "plt.grid(True)"
   ]
  },
  {
   "cell_type": "code",
   "execution_count": null,
   "id": "4cb8c51f-9116-41ba-9cb1-d881ee87f32d",
   "metadata": {},
   "outputs": [],
   "source": [
    "#Plotando a fase "
   ]
  },
  {
   "cell_type": "code",
   "execution_count": 29,
   "id": "3f3827b0-5649-4edc-afd2-c6475ca189d4",
   "metadata": {},
   "outputs": [
    {
     "data": {
      "image/png": "[encoded data removed]",
      "text/plain": [
       "<Figure size 432x288 with 1 Axes>"
      ]
     },
     "metadata": {
      "needs_background": "light"
     },
     "output_type": "display_data"
    }
   ],
   "source": [
    "#Plota a fase\n",
    "plt.subplot(2,1,2)\n",
    "plt.plot(Fase_X)\n",
    "plt.title('Fase')\n",
    "plt.grid(True)"
   ]
  },
  {
   "cell_type": "code",
   "execution_count": null,
   "id": "1418557a-b7e1-46e9-920b-a19ca0003720",
   "metadata": {},
   "outputs": [],
   "source": []
  }
 ],
 "metadata": {
  "kernelspec": {
   "display_name": "Python 3 (ipykernel)",
   "language": "python",
   "name": "python3"
  },
  "language_info": {
   "codemirror_mode": {
    "name": "ipython",
    "version": 3
   },
   "file_extension": ".py",
   "mimetype": "text/x-python",
   "name": "python",
   "nbconvert_exporter": "python",
   "pygments_lexer": "ipython3",
   "version": "3.9.12"
  }
 },
 "nbformat": 4,
 "nbformat_minor": 5
}
