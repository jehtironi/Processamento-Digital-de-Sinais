{
 "cells": [
  {
   "cell_type": "code",
   "execution_count": null,
   "id": "2025522b",
   "metadata": {},
   "outputs": [],
   "source": [
    "#Importando as bibliotecas"
   ]
  },
  {
   "cell_type": "code",
   "execution_count": 67,
   "id": "86df5e6c",
   "metadata": {},
   "outputs": [],
   "source": [
    "import numpy as np\n",
    "import matplotlib.pyplot as plt\n",
    "from scipy import signal as sf\n",
    "import math"
   ]
  },
  {
   "cell_type": "code",
   "execution_count": null,
   "id": "85e6aa46",
   "metadata": {},
   "outputs": [],
   "source": [
    "#Declara as variaveis que vão ser utilizadas"
   ]
  },
  {
   "cell_type": "code",
   "execution_count": 68,
   "id": "6174a994",
   "metadata": {},
   "outputs": [],
   "source": [
    "X = np.zeros(4999)\n",
    "Y = np.zeros(4999)\n",
    "X2 = np.zeros(4999)\n",
    "Y2 = np.zeros(4999)\n",
    "Fs = 8000\n",
    "Fc1 = float(1000/Fs)\n",
    "Fc2 = float(2000/Fs)\n",
    "tam = 100\n",
    "H1 = np.zeros(tam)\n",
    "H2 = np.zeros(tam)"
   ]
  },
  {
   "cell_type": "code",
   "execution_count": null,
   "id": "efd84fe2",
   "metadata": {},
   "outputs": [],
   "source": [
    "#Gerando os coeficientes"
   ]
  },
  {
   "cell_type": "code",
   "execution_count": 69,
   "id": "14c073bd",
   "metadata": {},
   "outputs": [],
   "source": [
    "for i in range(len(H1)):\n",
    "    if(i - tam/2) == 0:\n",
    "        H1[i] = 2 * np.pi * Fc1\n",
    "    if(i - tam/2) != 0:\n",
    "        H1[i] = np.sin(2 * np.pi * Fc1 * (i - tam/2)) / (i - tam/2)\n",
    "    H1[i] = H1[i] * (0.54 - 0.46 * np.cos(2 * numpy.pi * i / tam))"
   ]
  },
  {
   "cell_type": "code",
   "execution_count": null,
   "id": "191b4a2a",
   "metadata": {},
   "outputs": [],
   "source": [
    "# Em primeiro momento realiza a soma de todos os coeficientes\n",
    "# Após isso ele divide os valores pelo valor da soma total\n",
    "# Realiza a convolução"
   ]
  },
  {
   "cell_type": "code",
   "execution_count": 70,
   "id": "95c99571",
   "metadata": {},
   "outputs": [],
   "source": [
    "soma = 0\n",
    "\n",
    "for i in range(len(H1)): \n",
    "    soma += H1[i]\n",
    "\n",
    "for i in range(len(H1)):\n",
    "    H1[i] = H1[i]/soma\n",
    "\n",
    "for j in range(tam,4999):\n",
    "    Y2[j] = 0\n",
    "    for i in range(len(H1)):\n",
    "        Y2[j] = Y2[j] + X2[j - i] * H1[i]"
   ]
  },
  {
   "cell_type": "code",
   "execution_count": null,
   "id": "fed19135",
   "metadata": {},
   "outputs": [],
   "source": [
    "#Calcula os coeficientes"
   ]
  },
  {
   "cell_type": "code",
   "execution_count": 71,
   "id": "f2baadef",
   "metadata": {},
   "outputs": [],
   "source": [
    "for i in range(len(H2)):\n",
    "    if(i - tam/2) == 0:\n",
    "        H2[i] = 2 * np.pi * Fc2\n",
    "    if(i - tam/2) != 0:\n",
    "        H2[i] = np.sin(2 * np.pi * Fc2 * (i - tam/2)) / (i - tam/2)\n",
    "    H2[i] = H2[i] * (0.54 - 0.46 * np.cos(2 * np.pi * i / tam))"
   ]
  },
  {
   "cell_type": "code",
   "execution_count": null,
   "id": "c40acf09",
   "metadata": {},
   "outputs": [],
   "source": [
    "# Em primeiro momento realiza a soma de todos os coeficientes\n",
    "# Após isso ele divide os valores pelo valor da soma total\n",
    "# Realiza a convolução"
   ]
  },
  {
   "cell_type": "code",
   "execution_count": 72,
   "id": "4b1da9da",
   "metadata": {},
   "outputs": [],
   "source": [
    "soma = 0\n",
    "for i in range(len(H2)): \n",
    "    soma += H2[i]\n",
    "\n",
    "for i in range(len(H2)):\n",
    "    H2[i] = H2[i]/soma\n",
    "\n",
    "for j in range(tam,4999):\n",
    "    Y[j] = 0\n",
    "    for i in range(len(H2)):\n",
    "        Y[j] = Y[j] + X[j - i] * H2[i]"
   ]
  },
  {
   "cell_type": "code",
   "execution_count": null,
   "id": "fefd43ee",
   "metadata": {},
   "outputs": [],
   "source": []
  },
  {
   "cell_type": "code",
   "execution_count": 73,
   "id": "82f9241e",
   "metadata": {},
   "outputs": [],
   "source": [
    "for k in range(tam):\n",
    "    H2[k] = H2[k] * -1\n",
    "    if( k == tam/2):\n",
    "        H2[k] +=1\n",
    "\n",
    "\n",
    "for l in range(len(H2)):\n",
    "        reject =  H2[l] + H1[l]\n",
    "        H2[l] = reject\n",
    "\n",
    "for k in range(len(H2)):\n",
    "    H2[k] = H2[k] * -1\n",
    "    if( k == tam/2):\n",
    "        H2[k] += 1"
   ]
  },
  {
   "cell_type": "code",
   "execution_count": null,
   "id": "eba346d4",
   "metadata": {},
   "outputs": [],
   "source": [
    "#Plotando o grafico"
   ]
  },
  {
   "cell_type": "code",
   "execution_count": 74,
   "id": "3f54f895",
   "metadata": {},
   "outputs": [
    {
     "data": {
      "image/png": "[encoded data removed]",
      "text/plain": [
       "<Figure size 640x480 with 1 Axes>"
      ]
     },
     "metadata": {},
     "output_type": "display_data"
    }
   ],
   "source": [
    "plt.title(\"H\")\n",
    "plt.plot(H2, 'r')\n",
    "plt.grid()"
   ]
  },
  {
   "cell_type": "code",
   "execution_count": 75,
   "id": "469789da",
   "metadata": {},
   "outputs": [],
   "source": [
    "#Grava os coeficientes em um arquivo existente\n",
    "with open(\"coefSimu.dat\", \"w\") as f:\n",
    "    for s in H2:\n",
    "        f.write(str(s) +\",\\n\")"
   ]
  },
  {
   "cell_type": "code",
   "execution_count": 76,
   "id": "2007aca6",
   "metadata": {},
   "outputs": [
    {
     "data": {
      "image/png": "[encoded data removed]",
      "text/plain": [
       "<Figure size 640x480 with 1 Axes>"
      ]
     },
     "metadata": {},
     "output_type": "display_data"
    }
   ],
   "source": [
    "[w, H2] = sf.freqz(H2, 1, 8000)\n",
    "plt.plot(w*8000/(2*np.pi), 20*np.log10(abs(H2)))\n",
    "plt.show()"
   ]
  }
 ],
 "metadata": {
  "kernelspec": {
   "display_name": "Python 3 (ipykernel)",
   "language": "python",
   "name": "python3"
  },
  "language_info": {
   "codemirror_mode": {
    "name": "ipython",
    "version": 3
   },
   "file_extension": ".py",
   "mimetype": "text/x-python",
   "name": "python",
   "nbconvert_exporter": "python",
   "pygments_lexer": "ipython3",
   "version": "3.9.13"
  }
 },
 "nbformat": 4,
 "nbformat_minor": 5
}
