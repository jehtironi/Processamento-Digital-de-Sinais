{
 "cells": [
  {
   "cell_type": "code",
   "execution_count": null,
   "id": "84e3c7e7-d18b-4e14-950c-e44945ff3eef",
   "metadata": {},
   "outputs": [],
   "source": [
    "#Importando as bibliotecas"
   ]
  },
  {
   "cell_type": "code",
   "execution_count": 1,
   "id": "8fcb4f51-59e7-44d6-9cfd-cfdf86500c3f",
   "metadata": {},
   "outputs": [],
   "source": [
    "import numpy as np\n",
    "import matplotlib.pyplot as plt"
   ]
  },
  {
   "cell_type": "code",
   "execution_count": null,
   "id": "f213b8a9-8a78-406a-a174-cc2662ceb043",
   "metadata": {},
   "outputs": [],
   "source": [
    "#Lendo os arquivos em binário"
   ]
  },
  {
   "cell_type": "code",
   "execution_count": 3,
   "id": "432f3cb3-1264-4ce5-a104-e197db4e9c8c",
   "metadata": {},
   "outputs": [],
   "source": [
    "#Lendo arquivos binários\n",
    "with open (\"alo.pcm\", \"rb\") as f:\n",
    "        fid = f.read()\n",
    "        f.close()\n",
    "entrada = np.frombuffer(fid, dtype = \"int16\")"
   ]
  },
  {
   "cell_type": "code",
   "execution_count": 15,
   "id": "1101d169-9284-4103-87ff-0b8782fde73a",
   "metadata": {},
   "outputs": [],
   "source": [
    "#Entrada impulso unitario"
   ]
  },
  {
   "cell_type": "code",
   "execution_count": 16,
   "id": "e22101cf-4220-4b99-80d1-25f9d243f5da",
   "metadata": {},
   "outputs": [],
   "source": [
    "entrada = np.zeros(30)\n",
    "entrada[0] = 1"
   ]
  },
  {
   "cell_type": "code",
   "execution_count": null,
   "id": "8aa31720-98ab-40b7-88b2-0da68287b6b2",
   "metadata": {},
   "outputs": [],
   "source": [
    "#declaração de variaveis"
   ]
  },
  {
   "cell_type": "code",
   "execution_count": 53,
   "id": "76fa6c49-b9a3-457c-92de-4007dd5d7aa0",
   "metadata": {},
   "outputs": [],
   "source": [
    "Fs = 8000 \n",
    "D = 1 * 10**-3 \n",
    "n = int(D * Fs)\n",
    "\n",
    "saida = np.zeros(len(entrada))\n",
    "\n",
    "# Ganhos\n",
    "a0 = 1\n",
    "a1 = 0.5\n",
    "vector_eco = np.zeros(len(entrada), dtype = \"int16\")\n"
   ]
  },
  {
   "cell_type": "code",
   "execution_count": null,
   "id": "354ab86f-3382-459f-9dee-7fc6f8fe3f80",
   "metadata": {},
   "outputs": [],
   "source": [
    "#formula para calcular o eco\n",
    "#Laço de repetição que possui o tamanho do array de entrada\n",
    "#salva o resultado do calculo em um vetor de saida"
   ]
  },
  {
   "cell_type": "code",
   "execution_count": 57,
   "id": "58f01964-b81c-4f68-a7b2-74a857ee7e0f",
   "metadata": {},
   "outputs": [],
   "source": [
    "for i in range(len(entrada)):\n",
    "    saida[i] = (a0 * entrada[i] + a1 * saida[i - n])"
   ]
  },
  {
   "cell_type": "code",
   "execution_count": null,
   "id": "58089e49-dda7-4133-9fe8-5d4b44aacd05",
   "metadata": {},
   "outputs": [],
   "source": [
    "#Plotando o gráfico de entrada"
   ]
  },
  {
   "cell_type": "code",
   "execution_count": 55,
   "id": "545f6e8e-8cc0-4000-a410-9747d81e0489",
   "metadata": {},
   "outputs": [
    {
     "data": {
      "text/plain": [
       "<StemContainer object of 3 artists>"
      ]
     },
     "execution_count": 55,
     "metadata": {},
     "output_type": "execute_result"
    },
    {
     "data": {
      "image/png": "[encoded data removed]",
      "text/plain": [
       "<Figure size 432x288 with 1 Axes>"
      ]
     },
     "metadata": {
      "needs_background": "light"
     },
     "output_type": "display_data"
    }
   ],
   "source": [
    "plt.subplot(2, 1, 1)\n",
    "plt.title(\"Entrada\")\n",
    "plt.xlabel(\"Nº de amostras\")\n",
    "plt.stem(entrada)"
   ]
  },
  {
   "cell_type": "code",
   "execution_count": null,
   "id": "667f204e-9ba5-47f7-a000-3896b847c58e",
   "metadata": {},
   "outputs": [],
   "source": [
    "#Plotando o grafico de saida"
   ]
  },
  {
   "cell_type": "code",
   "execution_count": 58,
   "id": "4faf4cac-0170-47e8-905f-4b17c87c09a5",
   "metadata": {},
   "outputs": [
    {
     "data": {
      "text/plain": [
       "<StemContainer object of 3 artists>"
      ]
     },
     "execution_count": 58,
     "metadata": {},
     "output_type": "execute_result"
    },
    {
     "data": {
      "image/png": "[encoded data removed]",
      "text/plain": [
       "<Figure size 432x288 with 1 Axes>"
      ]
     },
     "metadata": {
      "needs_background": "light"
     },
     "output_type": "display_data"
    }
   ],
   "source": [
    "plt.subplot(2, 1, 2)\n",
    "plt.title(\"Saída\")\n",
    "plt.xlabel(\"Nº de amostras\")\n",
    "plt.stem(saida)"
   ]
  },
  {
   "cell_type": "code",
   "execution_count": null,
   "id": "0fa70076-150d-46e2-9820-eebddd48b21d",
   "metadata": {},
   "outputs": [],
   "source": [
    "#Salvando o arquivo eco"
   ]
  },
  {
   "cell_type": "code",
   "execution_count": 11,
   "id": "177ae626-ceaf-4894-92c2-a8ad4bcd8c02",
   "metadata": {},
   "outputs": [],
   "source": [
    "with open(\"ecoFinal.pcm\", \"wb\") as new_file:\n",
    "    for x in saida:\n",
    "        new_file.write(x)\n",
    "    new_file.close()"
   ]
  }
 ],
 "metadata": {
  "kernelspec": {
   "display_name": "Python 3 (ipykernel)",
   "language": "python",
   "name": "python3"
  },
  "language_info": {
   "codemirror_mode": {
    "name": "ipython",
    "version": 3
   },
   "file_extension": ".py",
   "mimetype": "text/x-python",
   "name": "python",
   "nbconvert_exporter": "python",
   "pygments_lexer": "ipython3",
   "version": "3.9.12"
  }
 },
 "nbformat": 4,
 "nbformat_minor": 5
}
