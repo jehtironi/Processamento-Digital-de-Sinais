{
 "cells": [
  {
   "cell_type": "code",
   "execution_count": null,
   "id": "36ff36c8-5a19-4140-b4e5-70d243dc2ec6",
   "metadata": {},
   "outputs": [],
   "source": [
    "#Importando as bibliotecas utilizadas"
   ]
  },
  {
   "cell_type": "code",
   "execution_count": 2,
   "id": "7e0dd2c4",
   "metadata": {},
   "outputs": [],
   "source": [
    "import numpy as np\n",
    "import matplotlib.pyplot as plt\n",
    "from scipy import signal as sf"
   ]
  },
  {
   "cell_type": "code",
   "execution_count": null,
   "id": "71986ed2",
   "metadata": {},
   "outputs": [],
   "source": [
    "BAND-PASS WINDOWED-SINC FILTER"
   ]
  },
  {
   "cell_type": "code",
   "execution_count": null,
   "id": "e6dffdc9-b746-49fc-ad24-454d863271eb",
   "metadata": {},
   "outputs": [],
   "source": [
    "#Declarando as variaveis\n",
    "#Iniciando as listas com todas as posições = 0"
   ]
  },
  {
   "cell_type": "code",
   "execution_count": 3,
   "id": "4bd9fde7",
   "metadata": {},
   "outputs": [],
   "source": [
    "#Iniciando as listas com todas as posições = 0\n",
    "A = np.zeros(800)\n",
    "B = np.zeros(800)\n",
    "H = np.zeros(800)\n",
    "\n",
    "Fs = 8000 #Frequencia\n",
    "FC = 0.196\n",
    "tam = 800 #Tamanho do filtro"
   ]
  },
  {
   "cell_type": "code",
   "execution_count": null,
   "id": "5fccfdf8-c4a4-47ad-9b94-5490a673bb36",
   "metadata": {},
   "outputs": [],
   "source": [
    "#Gera os coeficientes para a lista A[]"
   ]
  },
  {
   "cell_type": "code",
   "execution_count": 140,
   "id": "f3bf7acd",
   "metadata": {},
   "outputs": [],
   "source": [
    "for i in range(len(A)):\n",
    "    if(i-(tam/2) == 0):\n",
    "        A[i] = 2* np.pi * FC\n",
    "    if(i - tam/2) != 0:\n",
    "        A[i] = np.sin(2 * np.pi * FC * (i-tam/2)) / (i - tam/2)\n",
    "    A[i] = A[i] * (0.42-0.5)*np.cos(2*np.pi*(i/tam)) + 0.08*(np.cos(4 * np.pi*(i/tam)))"
   ]
  },
  {
   "cell_type": "code",
   "execution_count": null,
   "id": "9f5cff3a-ab0d-42c2-ab2b-0f54b830ac4a",
   "metadata": {},
   "outputs": [],
   "source": [
    "# Em primeiro momento realiza a soma de todos os coeficientes\n",
    "# Após isso ele divide os valores de A pelo valor da soma total e salva em uma lista H"
   ]
  },
  {
   "cell_type": "code",
   "execution_count": 141,
   "id": "8ff8b2bd",
   "metadata": {},
   "outputs": [],
   "source": [
    "SUM = 0\n",
    "#Soma todos os coeficientes\n",
    "for i in range(len(A)):\n",
    "    SUM = SUM + A[i] \n",
    "\n",
    "#Divide os coefiecientes pela soma de todos eles\n",
    "for i in range(len(H)):\n",
    "    H[i] = A[i] / SUM"
   ]
  },
  {
   "cell_type": "code",
   "execution_count": null,
   "id": "da54cc5d-fe07-499f-a6db-f70582d14549",
   "metadata": {},
   "outputs": [],
   "source": [
    "#Gera os coeficientes para a lista B[]\n",
    "#Os calculos são realizados com uma frequencia de corte diferente da que foi utilizada para a lista A[]"
   ]
  },
  {
   "cell_type": "code",
   "execution_count": 142,
   "id": "4301bb25",
   "metadata": {},
   "outputs": [],
   "source": [
    "FC = 0.204\n",
    "for i in range(len(B)):\n",
    "    if(i-(tam/2) == 0):\n",
    "        B[i] = 2* np.pi * FC\n",
    "    if(i - tam/2) != 0:\n",
    "        B[i] = np.sin(2 * np.pi * FC * (i-tam/2)) / (i - tam/2)\n",
    "    B[i] = B[i] * (0.42-0.5)*np.cos(2*np.pi*(i/tam)) + 0.08*(np.cos(4 * np.pi*(i/tam)))"
   ]
  },
  {
   "cell_type": "code",
   "execution_count": null,
   "id": "597c02fa-4034-477c-ac69-467e0df94dfc",
   "metadata": {},
   "outputs": [],
   "source": [
    "# Em primeiro momento realiza a soma de todos os coeficientes\n",
    "# Após isso ele divide os valores de B pelo valor da soma total e salva em uma lista H"
   ]
  },
  {
   "cell_type": "code",
   "execution_count": 143,
   "id": "053e1720",
   "metadata": {},
   "outputs": [],
   "source": [
    "SUM = 0\n",
    "#Soma todos os coeficientes\n",
    "for i in range(len(B)):\n",
    "    SUM = SUM + B[i] \n",
    "\n",
    "#Divide os coefiecientes pela soma de todos eles\n",
    "for i in range(len(B)):\n",
    "    B[i] = B[i] / SUM\n",
    "    \n",
    "for i in range(len(B)):\n",
    "    B[i] = -B[i]\n",
    "    \n",
    "B[400] = B[400] + 1\n",
    "\n",
    "for i in range(len(H)):\n",
    "    H[i] = A[i] + B[i]\n",
    "\n",
    "for i in range(len(H)):\n",
    "    H[i] = -H[i]\n",
    "    \n",
    "H[400] = H[400] + 1\n"
   ]
  },
  {
   "cell_type": "code",
   "execution_count": null,
   "id": "5c9bafb5-7123-4652-9ce8-34729d297c6b",
   "metadata": {},
   "outputs": [],
   "source": [
    "#Plota o grafico com os valores de H"
   ]
  },
  {
   "cell_type": "code",
   "execution_count": 144,
   "id": "23a91b76",
   "metadata": {},
   "outputs": [
    {
     "data": {
      "text/plain": [
       "[<matplotlib.lines.Line2D at 0x248807ef100>]"
      ]
     },
     "execution_count": 144,
     "metadata": {},
     "output_type": "execute_result"
    },
    {
     "data": {
      "image/png": "[encoded data removed]",
      "text/plain": [
       "<Figure size 640x480 with 1 Axes>"
      ]
     },
     "metadata": {},
     "output_type": "display_data"
    }
   ],
   "source": [
    "#Plotando o gráfico\n",
    "plt.subplot(2, 1, 1)\n",
    "plt.title(\"H[]\")\n",
    "plt.plot(H)"
   ]
  },
  {
   "cell_type": "code",
   "execution_count": null,
   "id": "677f8271-8249-46ca-89ed-8d5cc06a2e47",
   "metadata": {},
   "outputs": [],
   "source": [
    "#Utiliza a função freqz para calcular a resposta em frequencia\n",
    "#Plota o grafico da resposta em frequencia"
   ]
  },
  {
   "cell_type": "code",
   "execution_count": 145,
   "id": "6948505c",
   "metadata": {},
   "outputs": [
    {
     "data": {
      "text/plain": [
       "<function matplotlib.pyplot.grid(visible=None, which='major', axis='both', **kwargs)>"
      ]
     },
     "execution_count": 145,
     "metadata": {},
     "output_type": "execute_result"
    },
    {
     "data": {
      "image/png": "[encoded data removed]",
      "text/plain": [
       "<Figure size 640x480 with 1 Axes>"
      ]
     },
     "metadata": {},
     "output_type": "display_data"
    }
   ],
   "source": [
    "[w, H] = sf.freqz(H, 1,Fs)\n",
    "plt.plot(w*Fs/(2*np.pi), 20*np.log10(abs(H)))\n",
    "plt.title('Resposta em frequencia')\n",
    "plt.grid"
   ]
  },
  {
   "cell_type": "code",
   "execution_count": null,
   "id": "224a2b03",
   "metadata": {},
   "outputs": [],
   "source": []
  }
 ],
 "metadata": {
  "kernelspec": {
   "display_name": "Python 3 (ipykernel)",
   "language": "python",
   "name": "python3"
  },
  "language_info": {
   "codemirror_mode": {
    "name": "ipython",
    "version": 3
   },
   "file_extension": ".py",
   "mimetype": "text/x-python",
   "name": "python",
   "nbconvert_exporter": "python",
   "pygments_lexer": "ipython3",
   "version": "3.9.13"
  }
 },
 "nbformat": 4,
 "nbformat_minor": 5
}
