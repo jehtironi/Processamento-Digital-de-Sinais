{
 "cells": [
  {
   "cell_type": "code",
   "execution_count": null,
   "id": "84e3c7e7-d18b-4e14-950c-e44945ff3eef",
   "metadata": {},
   "outputs": [],
   "source": [
    "#Importando as bibliotecas"
   ]
  },
  {
   "cell_type": "code",
   "execution_count": 2,
   "id": "8fcb4f51-59e7-44d6-9cfd-cfdf86500c3f",
   "metadata": {},
   "outputs": [],
   "source": [
    "import numpy as np\n",
    "import matplotlib.pyplot as plt"
   ]
  },
  {
   "cell_type": "code",
   "execution_count": null,
   "id": "f213b8a9-8a78-406a-a174-cc2662ceb043",
   "metadata": {},
   "outputs": [],
   "source": [
    "#Lendo os arquivos em binário"
   ]
  },
  {
   "cell_type": "code",
   "execution_count": 11,
   "id": "432f3cb3-1264-4ce5-a104-e197db4e9c8c",
   "metadata": {},
   "outputs": [],
   "source": [
    "#Lendo arquivos binários\n",
    "with open (\"alo.pcm\", \"rb\") as f:\n",
    "        fid = f.read()\n",
    "        f.close()\n",
    "entrada = np.frombuffer(fid, dtype = \"int16\")"
   ]
  },
  {
   "cell_type": "code",
   "execution_count": 15,
   "id": "1101d169-9284-4103-87ff-0b8782fde73a",
   "metadata": {},
   "outputs": [],
   "source": [
    "#Entrada impulso unitario"
   ]
  },
  {
   "cell_type": "code",
   "execution_count": 4,
   "id": "e22101cf-4220-4b99-80d1-25f9d243f5da",
   "metadata": {},
   "outputs": [],
   "source": [
    "entrada = np.zeros(30)\n",
    "entrada[0] = 1"
   ]
  },
  {
   "cell_type": "code",
   "execution_count": null,
   "id": "8aa31720-98ab-40b7-88b2-0da68287b6b2",
   "metadata": {},
   "outputs": [],
   "source": [
    "#declaração de variaveis"
   ]
  },
  {
   "cell_type": "code",
   "execution_count": 12,
   "id": "76fa6c49-b9a3-457c-92de-4007dd5d7aa0",
   "metadata": {},
   "outputs": [],
   "source": [
    "Fs = 8000 \n",
    "D = 1 * 10**-3 \n",
    "n = int(D * Fs)\n",
    "\n",
    "saida = np.zeros(len(entrada))\n",
    "\n",
    "# Ganhos\n",
    "a0 = 1\n",
    "a1 = 0.5\n",
    "vector_eco = np.zeros(len(entrada), dtype = \"int16\")\n"
   ]
  },
  {
   "cell_type": "code",
   "execution_count": null,
   "id": "354ab86f-3382-459f-9dee-7fc6f8fe3f80",
   "metadata": {},
   "outputs": [],
   "source": [
    "#formula para calcular o eco\n",
    "#Laço de repetição que possui o tamanho do array de entrada\n",
    "#salva o resultado do calculo em um vetor de saida"
   ]
  },
  {
   "cell_type": "code",
   "execution_count": 13,
   "id": "58f01964-b81c-4f68-a7b2-74a857ee7e0f",
   "metadata": {},
   "outputs": [],
   "source": [
    "for i in range(len(entrada)):\n",
    "    saida[i] = (a0 * entrada[i] + a1 * saida[i - n])\n",
    "    "
   ]
  },
  {
   "cell_type": "code",
   "execution_count": null,
   "id": "58089e49-dda7-4133-9fe8-5d4b44aacd05",
   "metadata": {},
   "outputs": [],
   "source": [
    "#Plotando o gráfico de entrada"
   ]
  },
  {
   "cell_type": "code",
   "execution_count": 14,
   "id": "545f6e8e-8cc0-4000-a410-9747d81e0489",
   "metadata": {},
   "outputs": [
    {
     "data": {
      "text/plain": [
       "<StemContainer object of 3 artists>"
      ]
     },
     "execution_count": 14,
     "metadata": {},
     "output_type": "execute_result"
    },
    {
     "data": {
      "image/png": "[encoded data removed]",
      "text/plain": [
       "<Figure size 432x288 with 1 Axes>"
      ]
     },
     "metadata": {
      "needs_background": "light"
     },
     "output_type": "display_data"
    }
   ],
   "source": [
    "plt.subplot(2, 1, 1)\n",
    "plt.title(\"Entrada\")\n",
    "plt.xlabel(\"Nº de amostras\")\n",
    "plt.stem(entrada)"
   ]
  },
  {
   "cell_type": "code",
   "execution_count": null,
   "id": "667f204e-9ba5-47f7-a000-3896b847c58e",
   "metadata": {},
   "outputs": [],
   "source": [
    "#Plotando o grafico de saida"
   ]
  },
  {
   "cell_type": "code",
   "execution_count": 15,
   "id": "4faf4cac-0170-47e8-905f-4b17c87c09a5",
   "metadata": {},
   "outputs": [
    {
     "data": {
      "text/plain": [
       "<StemContainer object of 3 artists>"
      ]
     },
     "execution_count": 15,
     "metadata": {},
     "output_type": "execute_result"
    },
    {
     "data": {
      "image/png": "[encoded data removed]",
      "text/plain": [
       "<Figure size 432x288 with 1 Axes>"
      ]
     },
     "metadata": {
      "needs_background": "light"
     },
     "output_type": "display_data"
    }
   ],
   "source": [
    "plt.subplot(2, 1, 2)\n",
    "plt.title(\"Saída\")\n",
    "plt.xlabel(\"Nº de amostras\")\n",
    "plt.stem(saida)"
   ]
  },
  {
   "cell_type": "code",
   "execution_count": null,
   "id": "0fa70076-150d-46e2-9820-eebddd48b21d",
   "metadata": {},
   "outputs": [],
   "source": [
    "#Salvando o arquivo eco"
   ]
  },
  {
   "cell_type": "code",
   "execution_count": 18,
   "id": "177ae626-ceaf-4894-92c2-a8ad4bcd8c02",
   "metadata": {},
   "outputs": [],
   "source": [
    "with open('processamento.pcm', 'wb') as fid:\n",
    "    np.array(saida, dtype=np.int16).tofile(fid)\n",
    "fid.close()"
   ]
  },
  {
   "cell_type": "code",
   "execution_count": 20,
   "id": "976c270a-1484-4d7f-bbc5-e210d3aeb58f",
   "metadata": {},
   "outputs": [
    {
     "ename": "KeyboardInterrupt",
     "evalue": "Interrupted by user",
     "output_type": "error",
     "traceback": [
      "\u001b[1;31m---------------------------------------------------------------------------\u001b[0m",
      "\u001b[1;31mKeyboardInterrupt\u001b[0m                         Traceback (most recent call last)",
      "Input \u001b[1;32mIn [20]\u001b[0m, in \u001b[0;36m<cell line: 5>\u001b[1;34m()\u001b[0m\n\u001b[0;32m      2\u001b[0m \u001b[38;5;28;01mimport\u001b[39;00m \u001b[38;5;21;01mpylab\u001b[39;00m \u001b[38;5;66;03m#Importa pylab\u001b[39;00m\n\u001b[0;32m      4\u001b[0m data \u001b[38;5;241m=\u001b[39m numpy\u001b[38;5;241m.\u001b[39mmemmap(\u001b[38;5;124m\"\u001b[39m\u001b[38;5;124malo.pcm\u001b[39m\u001b[38;5;124m\"\u001b[39m, dtype\u001b[38;5;241m=\u001b[39m\u001b[38;5;124m'\u001b[39m\u001b[38;5;124mh\u001b[39m\u001b[38;5;124m'\u001b[39m, mode\u001b[38;5;241m=\u001b[39m\u001b[38;5;124m'\u001b[39m\u001b[38;5;124mr\u001b[39m\u001b[38;5;124m'\u001b[39m)\n\u001b[1;32m----> 5\u001b[0m Fs \u001b[38;5;241m=\u001b[39m \u001b[38;5;28mfloat\u001b[39m(\u001b[38;5;28;43minput\u001b[39;49m\u001b[43m(\u001b[49m\u001b[38;5;124;43m\"\u001b[39;49m\u001b[38;5;124;43mFs:\u001b[39;49m\u001b[38;5;124;43m\"\u001b[39;49m\u001b[43m)\u001b[49m)\n\u001b[0;32m      6\u001b[0m D \u001b[38;5;241m=\u001b[39m \u001b[38;5;28mfloat\u001b[39m(\u001b[38;5;28minput\u001b[39m(\u001b[38;5;124m\"\u001b[39m\u001b[38;5;124mD:\u001b[39m\u001b[38;5;124m\"\u001b[39m))\n\u001b[0;32m      7\u001b[0m a0 \u001b[38;5;241m=\u001b[39m \u001b[38;5;28mfloat\u001b[39m(\u001b[38;5;28minput\u001b[39m(\u001b[38;5;124m\"\u001b[39m\u001b[38;5;124mA0:\u001b[39m\u001b[38;5;124m\"\u001b[39m))\n",
      "File \u001b[1;32m~\\anaconda3\\lib\\site-packages\\ipykernel\\kernelbase.py:1075\u001b[0m, in \u001b[0;36mKernel.raw_input\u001b[1;34m(self, prompt)\u001b[0m\n\u001b[0;32m   1071\u001b[0m \u001b[38;5;28;01mif\u001b[39;00m \u001b[38;5;129;01mnot\u001b[39;00m \u001b[38;5;28mself\u001b[39m\u001b[38;5;241m.\u001b[39m_allow_stdin:\n\u001b[0;32m   1072\u001b[0m     \u001b[38;5;28;01mraise\u001b[39;00m StdinNotImplementedError(\n\u001b[0;32m   1073\u001b[0m         \u001b[38;5;124m\"\u001b[39m\u001b[38;5;124mraw_input was called, but this frontend does not support input requests.\u001b[39m\u001b[38;5;124m\"\u001b[39m\n\u001b[0;32m   1074\u001b[0m     )\n\u001b[1;32m-> 1075\u001b[0m \u001b[38;5;28;01mreturn\u001b[39;00m \u001b[38;5;28;43mself\u001b[39;49m\u001b[38;5;241;43m.\u001b[39;49m\u001b[43m_input_request\u001b[49m\u001b[43m(\u001b[49m\n\u001b[0;32m   1076\u001b[0m \u001b[43m    \u001b[49m\u001b[38;5;28;43mstr\u001b[39;49m\u001b[43m(\u001b[49m\u001b[43mprompt\u001b[49m\u001b[43m)\u001b[49m\u001b[43m,\u001b[49m\n\u001b[0;32m   1077\u001b[0m \u001b[43m    \u001b[49m\u001b[38;5;28;43mself\u001b[39;49m\u001b[38;5;241;43m.\u001b[39;49m\u001b[43m_parent_ident\u001b[49m\u001b[43m[\u001b[49m\u001b[38;5;124;43m\"\u001b[39;49m\u001b[38;5;124;43mshell\u001b[39;49m\u001b[38;5;124;43m\"\u001b[39;49m\u001b[43m]\u001b[49m\u001b[43m,\u001b[49m\n\u001b[0;32m   1078\u001b[0m \u001b[43m    \u001b[49m\u001b[38;5;28;43mself\u001b[39;49m\u001b[38;5;241;43m.\u001b[39;49m\u001b[43mget_parent\u001b[49m\u001b[43m(\u001b[49m\u001b[38;5;124;43m\"\u001b[39;49m\u001b[38;5;124;43mshell\u001b[39;49m\u001b[38;5;124;43m\"\u001b[39;49m\u001b[43m)\u001b[49m\u001b[43m,\u001b[49m\n\u001b[0;32m   1079\u001b[0m \u001b[43m    \u001b[49m\u001b[43mpassword\u001b[49m\u001b[38;5;241;43m=\u001b[39;49m\u001b[38;5;28;43;01mFalse\u001b[39;49;00m\u001b[43m,\u001b[49m\n\u001b[0;32m   1080\u001b[0m \u001b[43m\u001b[49m\u001b[43m)\u001b[49m\n",
      "File \u001b[1;32m~\\anaconda3\\lib\\site-packages\\ipykernel\\kernelbase.py:1120\u001b[0m, in \u001b[0;36mKernel._input_request\u001b[1;34m(self, prompt, ident, parent, password)\u001b[0m\n\u001b[0;32m   1117\u001b[0m             \u001b[38;5;28;01mbreak\u001b[39;00m\n\u001b[0;32m   1118\u001b[0m \u001b[38;5;28;01mexcept\u001b[39;00m \u001b[38;5;167;01mKeyboardInterrupt\u001b[39;00m:\n\u001b[0;32m   1119\u001b[0m     \u001b[38;5;66;03m# re-raise KeyboardInterrupt, to truncate traceback\u001b[39;00m\n\u001b[1;32m-> 1120\u001b[0m     \u001b[38;5;28;01mraise\u001b[39;00m \u001b[38;5;167;01mKeyboardInterrupt\u001b[39;00m(\u001b[38;5;124m\"\u001b[39m\u001b[38;5;124mInterrupted by user\u001b[39m\u001b[38;5;124m\"\u001b[39m) \u001b[38;5;28;01mfrom\u001b[39;00m \u001b[38;5;28mNone\u001b[39m\n\u001b[0;32m   1121\u001b[0m \u001b[38;5;28;01mexcept\u001b[39;00m \u001b[38;5;167;01mException\u001b[39;00m:\n\u001b[0;32m   1122\u001b[0m     \u001b[38;5;28mself\u001b[39m\u001b[38;5;241m.\u001b[39mlog\u001b[38;5;241m.\u001b[39mwarning(\u001b[38;5;124m\"\u001b[39m\u001b[38;5;124mInvalid Message:\u001b[39m\u001b[38;5;124m\"\u001b[39m, exc_info\u001b[38;5;241m=\u001b[39m\u001b[38;5;28;01mTrue\u001b[39;00m)\n",
      "\u001b[1;31mKeyboardInterrupt\u001b[0m: Interrupted by user"
     ]
    }
   ],
   "source": [
    "import numpy \n",
    "import pylab #Importa pylab\n",
    "\n",
    "data = numpy.memmap(\"alo.pcm\", dtype='h', mode='r')\n",
    "Fs = 8000 \n",
    "D = 1 * 10**-3 \n",
    "n = int(D * Fs)\n",
    "\n",
    "saida = np.zeros(len(entrada))\n",
    "\n",
    "# Ganhos\n",
    "a0 = 1\n",
    "a1 = 0.5)\n",
    "saida = numpy.zeros(len(data))\n",
    "\n",
    "for pointer in range(len(data)):\n",
    "    saida[pointer] = (a0 * data[pointer] + a1 * saida[pointer - n])\n",
    "\n",
    "\n",
    "pylab.plot(data,'b')\n",
    "pylab.plot(saida,'r')\n",
    "pylab.show()\n",
    "\n",
    "\n",
    "with open('eco.pcm', 'wb') as fid:\n",
    "    numpy.array(saida, dtype=numpy.int16).tofile(fid)\n",
    "fid.close()"
   ]
  }
 ],
 "metadata": {
  "kernelspec": {
   "display_name": "Python 3 (ipykernel)",
   "language": "python",
   "name": "python3"
  },
  "language_info": {
   "codemirror_mode": {
    "name": "ipython",
    "version": 3
   },
   "file_extension": ".py",
   "mimetype": "text/x-python",
   "name": "python",
   "nbconvert_exporter": "python",
   "pygments_lexer": "ipython3",
   "version": "3.9.12"
  }
 },
 "nbformat": 4,
 "nbformat_minor": 5
}
