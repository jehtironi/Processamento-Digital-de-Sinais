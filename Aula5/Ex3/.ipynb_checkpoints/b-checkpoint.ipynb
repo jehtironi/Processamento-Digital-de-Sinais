{
 "cells": [
  {
   "cell_type": "code",
   "execution_count": null,
   "id": "65c4c942-38ac-45b8-8396-bcc7f2ce67de",
   "metadata": {},
   "outputs": [],
   "source": [
    "#importando as bibliotecas"
   ]
  },
  {
   "cell_type": "code",
   "execution_count": 33,
   "id": "02c2849d-7382-4f22-84ad-307b6bf0a75f",
   "metadata": {},
   "outputs": [],
   "source": [
    "import numpy as np\n",
    "import matplotlib.pyplot as matp"
   ]
  },
  {
   "cell_type": "code",
   "execution_count": 34,
   "id": "8309c866-92d8-4bfb-9300-108741678739",
   "metadata": {},
   "outputs": [],
   "source": [
    "tam_amostras = 10\n",
    "x = np.ones(tam_amostras)\n",
    "saida = np.zeros(len(x))\n"
   ]
  },
  {
   "cell_type": "code",
   "execution_count": null,
   "id": "542c7762-e030-413f-813f-755b4ef0c706",
   "metadata": {},
   "outputs": [],
   "source": [
    "#Calculando a saida do sistem discreto "
   ]
  },
  {
   "cell_type": "code",
   "execution_count": 43,
   "id": "34bc023d-e0d8-4cc2-9767-c592589b5fd7",
   "metadata": {},
   "outputs": [],
   "source": [
    "#Variaveis para guardar os valores de y[k-1] e de [k-2]\n",
    "aux1 = 0\n",
    "aux2 = 0\n",
    "\n",
    "for k in range(tam_amostras):\n",
    "    input = x[k]\n",
    "    \n",
    "    # Calcula o valor na saida\n",
    "    y = input + (1/4)*aux1 - (1/2)*aux2\n",
    "\n",
    "    # Deslocamento\n",
    "    aux2 = aux1\n",
    "    aux1 = y\n",
    "    saida[k] = y"
   ]
  },
  {
   "cell_type": "code",
   "execution_count": null,
   "id": "48a5434b-b2ad-4198-a630-def27f3a607f",
   "metadata": {},
   "outputs": [],
   "source": [
    "#Plotando os gráficos de entrada"
   ]
  },
  {
   "cell_type": "code",
   "execution_count": 41,
   "id": "2f73913f-bc16-4588-bcf0-458f9102066a",
   "metadata": {},
   "outputs": [
    {
     "data": {
      "text/plain": [
       "<StemContainer object of 3 artists>"
      ]
     },
     "execution_count": 41,
     "metadata": {},
     "output_type": "execute_result"
    },
    {
     "data": {
      "image/png": "[encoded data removed]",
      "text/plain": [
       "<Figure size 432x288 with 1 Axes>"
      ]
     },
     "metadata": {
      "needs_background": "light"
     },
     "output_type": "display_data"
    }
   ],
   "source": [
    "# Plota os gráficos\n",
    "matp.subplot(211)\n",
    "matp.title(u\"Gráfico entrada\")\n",
    "matp.grid(1)\n",
    "matp.stem(x)\n"
   ]
  },
  {
   "cell_type": "code",
   "execution_count": null,
   "id": "a647e796-e6de-4cde-9364-5c3794e1d507",
   "metadata": {},
   "outputs": [],
   "source": [
    "#Plotando os gráficos de saida"
   ]
  },
  {
   "cell_type": "code",
   "execution_count": 42,
   "id": "6f9eb387-1dea-4858-9c30-89eb1b938f27",
   "metadata": {},
   "outputs": [
    {
     "data": {
      "text/plain": [
       "<StemContainer object of 3 artists>"
      ]
     },
     "execution_count": 42,
     "metadata": {},
     "output_type": "execute_result"
    },
    {
     "data": {
      "image/png": "[encoded data removed]",
      "text/plain": [
       "<Figure size 432x288 with 1 Axes>"
      ]
     },
     "metadata": {
      "needs_background": "light"
     },
     "output_type": "display_data"
    }
   ],
   "source": [
    "matp.subplot(212)\n",
    "matp.title(u\"Gráfico saida\")\n",
    "matp.xlabel(\"amostra\")\n",
    "matp.grid(1)\n",
    "matp.stem(saida)"
   ]
  }
 ],
 "metadata": {
  "kernelspec": {
   "display_name": "Python 3 (ipykernel)",
   "language": "python",
   "name": "python3"
  },
  "language_info": {
   "codemirror_mode": {
    "name": "ipython",
    "version": 3
   },
   "file_extension": ".py",
   "mimetype": "text/x-python",
   "name": "python",
   "nbconvert_exporter": "python",
   "pygments_lexer": "ipython3",
   "version": "3.9.12"
  }
 },
 "nbformat": 4,
 "nbformat_minor": 5
}
