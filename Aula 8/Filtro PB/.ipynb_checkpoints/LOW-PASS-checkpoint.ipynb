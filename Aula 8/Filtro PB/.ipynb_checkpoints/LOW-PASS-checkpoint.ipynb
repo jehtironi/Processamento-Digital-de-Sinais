{
 "cells": [
  {
   "cell_type": "code",
   "execution_count": 145,
   "id": "7e0dd2c4",
   "metadata": {},
   "outputs": [],
   "source": [
    "import numpy as np\n",
    "import matplotlib.pyplot as plt\n",
    "from scipy import signal as sf"
   ]
  },
  {
   "cell_type": "code",
   "execution_count": null,
   "id": "71986ed2",
   "metadata": {},
   "outputs": [],
   "source": [
    "LOW-PASS WINDOWED-SINC FILTER"
   ]
  },
  {
   "cell_type": "code",
   "execution_count": 529,
   "id": "4bd9fde7",
   "metadata": {},
   "outputs": [],
   "source": [
    "#Iniciando as listas com todas as posições = 0\n",
    "X = np.zeros(4999)\n",
    "Y = np.zeros(4999)\n",
    "Y[0] = 1\n",
    "H = np.zeros(32)"
   ]
  },
  {
   "cell_type": "code",
   "execution_count": 530,
   "id": "c15334d6",
   "metadata": {},
   "outputs": [],
   "source": [
    "FS = 8000 #Frequencia\n",
    "FC = float((400)/FS) #Frequencia de corte normalizado\n",
    "tam = 100 #Tamanho do filtro"
   ]
  },
  {
   "cell_type": "code",
   "execution_count": 522,
   "id": "d1a4437c",
   "metadata": {},
   "outputs": [],
   "source": [
    "#Le os coeficientes de um arquivo\n",
    "with open(\"coef_32.dat\") as file:\n",
    "    for line in file.readlines():\n",
    "        aux = line.split(',')\n",
    "\n",
    "H = []\n",
    "for val in aux:\n",
    "    H.append(float(val))"
   ]
  },
  {
   "cell_type": "code",
   "execution_count": 506,
   "id": "a7a21681",
   "metadata": {},
   "outputs": [],
   "source": [
    "#Gera os coeficientes\n",
    "for i in range(len(H)):\n",
    "    if(i-(tam/2) == 0):\n",
    "        H[i] = 2* np.pi * FC\n",
    "    if(i - tam/2) != 0:\n",
    "        H[i] = np.sin(2 * np.pi * FC * (i-tam/2)) / (i - tam/2)\n",
    "    H[i] = H[i]*(0.54-0.46*np.cos(2*np.pi*(i/tam)))\n",
    "        "
   ]
  },
  {
   "cell_type": "code",
   "execution_count": 478,
   "id": "02c89494",
   "metadata": {},
   "outputs": [],
   "source": [
    "#Grava os coeficientes em um arquivo existente\n",
    "with open(\"coef.dat\", \"w\") as f:\n",
    "    for s in H:\n",
    "        f.write(str(s) +\",\\n\")"
   ]
  },
  {
   "cell_type": "code",
   "execution_count": 523,
   "id": "053e1720",
   "metadata": {},
   "outputs": [],
   "source": [
    "SUM = 0\n",
    "#Soma todos os coeficientes\n",
    "for i in range(len(H)):\n",
    "    SUM = SUM + H[i] \n",
    "\n",
    "#Divide os coefiecientes pela soma de todos eles\n",
    "for i in range(len(H)):\n",
    "    H[i] = H[i] / SUM\n",
    "\n",
    "for j in range(100, 4999): \n",
    "    Y[j] = 0\n",
    "    for i in range(len(H)):\n",
    "        Y[j] = Y[j] + X[j-i] * 5"
   ]
  },
  {
   "cell_type": "code",
   "execution_count": 526,
   "id": "23a91b76",
   "metadata": {},
   "outputs": [
    {
     "data": {
      "text/plain": [
       "[<matplotlib.lines.Line2D at 0x25ec7b63b20>]"
      ]
     },
     "execution_count": 526,
     "metadata": {},
     "output_type": "execute_result"
    },
    {
     "data": {
      "image/png": "[encoded data removed]",
      "text/plain": [
       "<Figure size 640x480 with 1 Axes>"
      ]
     },
     "metadata": {},
     "output_type": "display_data"
    }
   ],
   "source": [
    "#Plotando o gráfico\n",
    "plt.subplot(2, 1, 1)\n",
    "plt.title(\"H[]\")\n",
    "plt.plot(H)"
   ]
  },
  {
   "cell_type": "code",
   "execution_count": 1,
   "id": "18632c60",
   "metadata": {},
   "outputs": [
    {
     "ename": "NameError",
     "evalue": "name 'sf' is not defined",
     "output_type": "error",
     "traceback": [
      "\u001b[1;31m---------------------------------------------------------------------------\u001b[0m",
      "\u001b[1;31mNameError\u001b[0m                                 Traceback (most recent call last)",
      "\u001b[1;32m~\\AppData\\Local\\Temp\\ipykernel_22496\\2095446941.py\u001b[0m in \u001b[0;36m<module>\u001b[1;34m\u001b[0m\n\u001b[1;32m----> 1\u001b[1;33m \u001b[1;33m[\u001b[0m\u001b[0mw\u001b[0m\u001b[1;33m,\u001b[0m \u001b[0mH\u001b[0m\u001b[1;33m]\u001b[0m \u001b[1;33m=\u001b[0m \u001b[0msf\u001b[0m\u001b[1;33m.\u001b[0m\u001b[0mfreqz\u001b[0m\u001b[1;33m(\u001b[0m\u001b[0mH\u001b[0m\u001b[1;33m,\u001b[0m \u001b[1;36m1\u001b[0m\u001b[1;33m,\u001b[0m\u001b[0mFs\u001b[0m\u001b[1;33m)\u001b[0m\u001b[1;33m\u001b[0m\u001b[1;33m\u001b[0m\u001b[0m\n\u001b[0m\u001b[0;32m      2\u001b[0m \u001b[0mplt\u001b[0m\u001b[1;33m.\u001b[0m\u001b[0mplot\u001b[0m\u001b[1;33m(\u001b[0m\u001b[0mw\u001b[0m\u001b[1;33m*\u001b[0m\u001b[0mFs\u001b[0m\u001b[1;33m/\u001b[0m\u001b[1;33m(\u001b[0m\u001b[1;36m2\u001b[0m\u001b[1;33m*\u001b[0m\u001b[0mnp\u001b[0m\u001b[1;33m.\u001b[0m\u001b[0mpi\u001b[0m\u001b[1;33m)\u001b[0m\u001b[1;33m,\u001b[0m \u001b[1;36m20\u001b[0m\u001b[1;33m*\u001b[0m\u001b[0mnp\u001b[0m\u001b[1;33m.\u001b[0m\u001b[0mlog10\u001b[0m\u001b[1;33m(\u001b[0m\u001b[0mabs\u001b[0m\u001b[1;33m(\u001b[0m\u001b[0mH\u001b[0m\u001b[1;33m)\u001b[0m\u001b[1;33m)\u001b[0m\u001b[1;33m)\u001b[0m\u001b[1;33m\u001b[0m\u001b[1;33m\u001b[0m\u001b[0m\n\u001b[0;32m      3\u001b[0m \u001b[0mplt\u001b[0m\u001b[1;33m.\u001b[0m\u001b[0mtitle\u001b[0m\u001b[1;33m(\u001b[0m\u001b[1;34m'Resposta em frequencia'\u001b[0m\u001b[1;33m)\u001b[0m\u001b[1;33m\u001b[0m\u001b[1;33m\u001b[0m\u001b[0m\n\u001b[0;32m      4\u001b[0m \u001b[0mplt\u001b[0m\u001b[1;33m.\u001b[0m\u001b[0mgrid\u001b[0m\u001b[1;33m\u001b[0m\u001b[1;33m\u001b[0m\u001b[0m\n",
      "\u001b[1;31mNameError\u001b[0m: name 'sf' is not defined"
     ]
    }
   ],
   "source": [
    "[w, H] = sf.freqz(H, 1,Fs)\n",
    "plt.plot(w*Fs/(2*np.pi), 20*np.log10(abs(H)))\n",
    "plt.title('Resposta em frequencia')\n",
    "plt.grid"
   ]
  }
 ],
 "metadata": {
  "kernelspec": {
   "display_name": "Python 3 (ipykernel)",
   "language": "python",
   "name": "python3"
  },
  "language_info": {
   "codemirror_mode": {
    "name": "ipython",
    "version": 3
   },
   "file_extension": ".py",
   "mimetype": "text/x-python",
   "name": "python",
   "nbconvert_exporter": "python",
   "pygments_lexer": "ipython3",
   "version": "3.9.13"
  }
 },
 "nbformat": 4,
 "nbformat_minor": 5
}
