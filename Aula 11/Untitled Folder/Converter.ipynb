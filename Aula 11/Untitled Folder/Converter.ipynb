{
 "cells": [
  {
   "cell_type": "code",
   "execution_count": 3,
   "id": "3ac36f0a",
   "metadata": {},
   "outputs": [],
   "source": [
    "import numpy as np\n",
    "\n",
    "with open('CoefPB.dat', 'r') as f:\n",
    "    coefs = [line.strip().replace(',', '') for line in f]\n",
    "\n",
    "coef_int = np.zeros(len(coefs))\n",
    "for i in range(len(coefs)):\n",
    "    coef_int[i] = int(float(coefs[i]) * 32768)\n",
    "\n",
    "with open(\"Coef_PB_short.dat\", \"w\") as f:\n",
    "    for s in coef_int:\n",
    "        f.write(str(s) +\",\\n\")"
   ]
  }
 ],
 "metadata": {
  "kernelspec": {
   "display_name": "Python 3 (ipykernel)",
   "language": "python",
   "name": "python3"
  },
  "language_info": {
   "codemirror_mode": {
    "name": "ipython",
    "version": 3
   },
   "file_extension": ".py",
   "mimetype": "text/x-python",
   "name": "python",
   "nbconvert_exporter": "python",
   "pygments_lexer": "ipython3",
   "version": "3.9.13"
  }
 },
 "nbformat": 4,
 "nbformat_minor": 5
}
