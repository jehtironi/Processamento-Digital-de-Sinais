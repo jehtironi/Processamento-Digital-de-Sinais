{
 "cells": [
  {
   "cell_type": "code",
   "execution_count": null,
   "id": "020089e0-20b0-439f-b472-8424b015fdc5",
   "metadata": {},
   "outputs": [],
   "source": [
    "#Importando as bibliotecas"
   ]
  },
  {
   "cell_type": "code",
   "execution_count": 2,
   "id": "94798313-2fbc-4dfa-af91-a59020bdda19",
   "metadata": {},
   "outputs": [],
   "source": [
    "import numpy as np\n",
    "import matplotlib.pyplot as plt"
   ]
  },
  {
   "cell_type": "code",
   "execution_count": null,
   "id": "606fe8c1-0d48-4548-8e99-e1e97a07e276",
   "metadata": {},
   "outputs": [],
   "source": [
    "#Função para calcular a media"
   ]
  },
  {
   "cell_type": "code",
   "execution_count": 3,
   "id": "ba2bfe8d-a5a6-4d36-9358-fa69866d1c81",
   "metadata": {},
   "outputs": [],
   "source": [
    "def mediaMovel(s, k):\n",
    "    media = np.zeros(len(s))\n",
    "    for j in range (0, len(s)):\n",
    "        soma = 0\n",
    "        for i in range(0, k):\n",
    "            soma = soma + s[j-i]*(1/k)\n",
    "        media[j] = soma\n",
    "    return media"
   ]
  },
  {
   "cell_type": "code",
   "execution_count": null,
   "id": "15beca6a-2503-437c-a2b0-24a91e86cdf9",
   "metadata": {},
   "outputs": [],
   "source": [
    "#Solicitando ao usuario o tamanho da media movel que o mesmo deseja calcular, nesse momento ele ja converte a string para int"
   ]
  },
  {
   "cell_type": "code",
   "execution_count": 4,
   "id": "104d3f8a-bc9d-45e5-8eb2-d05b7e32e9a4",
   "metadata": {},
   "outputs": [
    {
     "name": "stdin",
     "output_type": "stream",
     "text": [
      "Digite o tamanho de média que você deseja calcular (k = 4, 8, 16, 32...):  4\n"
     ]
    }
   ],
   "source": [
    "#Solicitando ao usuario\n",
    "escolha = int(input(\"Digite o tamanho de média que você deseja calcular (k = 4, 8, 16, 32...): \"))"
   ]
  },
  {
   "cell_type": "code",
   "execution_count": null,
   "id": "721fa469-ed51-4eaf-bc8c-729663eb04a0",
   "metadata": {},
   "outputs": [],
   "source": [
    "#Lendo arquivos e transformando um buffer em um array"
   ]
  },
  {
   "cell_type": "code",
   "execution_count": 6,
   "id": "89fb1df3-e34f-464d-9d0d-99a479f96fdf",
   "metadata": {},
   "outputs": [],
   "source": [
    "#Lendo arquivos binários\n",
    "with open (\"impulsoUnitario.pcm\", \"rb\") as f:\n",
    "        fid = f.read()\n",
    "        f.close()\n",
    "s = np.frombuffer(fid, dtype = \"int16\")"
   ]
  },
  {
   "cell_type": "code",
   "execution_count": null,
   "id": "7a207fa0-ed14-4e95-849c-0b6b9cd8cdd3",
   "metadata": {},
   "outputs": [],
   "source": [
    "#Testar com um array menor"
   ]
  },
  {
   "cell_type": "code",
   "execution_count": 5,
   "id": "7ecc37a7-822c-4e33-94aa-4b1aa4b48a43",
   "metadata": {},
   "outputs": [],
   "source": [
    "s = np.zeros(50)\n",
    "s[0] = 1"
   ]
  },
  {
   "cell_type": "code",
   "execution_count": null,
   "id": "571c34df-b7bd-4099-85a6-620ec1594ad0",
   "metadata": {},
   "outputs": [],
   "source": [
    "#Chamando a função que calcula a média movel"
   ]
  },
  {
   "cell_type": "code",
   "execution_count": 6,
   "id": "135e8767-f909-4981-aba1-8377cbe503f3",
   "metadata": {},
   "outputs": [],
   "source": [
    "media = mediaMovel(s, escolha)"
   ]
  },
  {
   "cell_type": "code",
   "execution_count": null,
   "id": "b1e7326c-c211-47b7-b2a8-412755049a65",
   "metadata": {},
   "outputs": [],
   "source": [
    "#plotando o gráfico do sinal de entrada"
   ]
  },
  {
   "cell_type": "code",
   "execution_count": 7,
   "id": "90ce96ee-d017-432f-b6fa-e0f668ab4598",
   "metadata": {},
   "outputs": [
    {
     "data": {
      "text/plain": [
       "<StemContainer object of 3 artists>"
      ]
     },
     "execution_count": 7,
     "metadata": {},
     "output_type": "execute_result"
    },
    {
     "data": {
      "image/png": "[encoded data removed]",
      "text/plain": [
       "<Figure size 1440x936 with 1 Axes>"
      ]
     },
     "metadata": {
      "needs_background": "light"
     },
     "output_type": "display_data"
    }
   ],
   "source": [
    "plt.figure(figsize=(20, 13))\n",
    "#Plotando o gráfico\n",
    "plt.subplot(2, 2, 1)\n",
    "plt.title(\"Sinal de Entrada\")\n",
    "plt.stem(s)"
   ]
  },
  {
   "cell_type": "code",
   "execution_count": null,
   "id": "c9fe5801-d912-4809-95f7-6166fb302cd2",
   "metadata": {},
   "outputs": [],
   "source": [
    "#Plotando o sinal de saida"
   ]
  },
  {
   "cell_type": "code",
   "execution_count": 8,
   "id": "87e30018-3858-482e-a34d-f7992838efb4",
   "metadata": {},
   "outputs": [
    {
     "data": {
      "text/plain": [
       "<StemContainer object of 3 artists>"
      ]
     },
     "execution_count": 8,
     "metadata": {},
     "output_type": "execute_result"
    },
    {
     "data": {
      "image/png": "[encoded data removed]",
      "text/plain": [
       "<Figure size 1440x936 with 1 Axes>"
      ]
     },
     "metadata": {
      "needs_background": "light"
     },
     "output_type": "display_data"
    }
   ],
   "source": [
    "#Plotando o gráfico\n",
    "plt.figure(figsize=(20, 13))\n",
    "plt.subplot(2, 2, 2)\n",
    "plt.title(\"Sinal de Saida\")\n",
    "plt.stem(media)"
   ]
  },
  {
   "cell_type": "code",
   "execution_count": null,
   "id": "08d0141f-e657-47d7-bc4d-d0f167f38231",
   "metadata": {},
   "outputs": [],
   "source": [
    "#Salvando o arquivo da media movel"
   ]
  },
  {
   "cell_type": "code",
   "execution_count": 11,
   "id": "e6551e1a-48e8-4db6-8187-515463879b6f",
   "metadata": {},
   "outputs": [],
   "source": [
    "#Salvando o arquivo de saída\n",
    "with open(\"sweepFinal.pcm\", \"wb\") as novo:\n",
    "    for data in media:\n",
    "        novo.write(data)\n",
    "    novo.close()"
   ]
  }
 ],
 "metadata": {
  "kernelspec": {
   "display_name": "Python 3 (ipykernel)",
   "language": "python",
   "name": "python3"
  },
  "language_info": {
   "codemirror_mode": {
    "name": "ipython",
    "version": 3
   },
   "file_extension": ".py",
   "mimetype": "text/x-python",
   "name": "python",
   "nbconvert_exporter": "python",
   "pygments_lexer": "ipython3",
   "version": "3.9.12"
  }
 },
 "nbformat": 4,
 "nbformat_minor": 5
}
